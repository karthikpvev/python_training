{
 "cells": [
  {
   "cell_type": "code",
   "execution_count": 1,
   "id": "f424d5f6-3264-4739-9e24-91528d3ae472",
   "metadata": {},
   "outputs": [
    {
     "name": "stdout",
     "output_type": "stream",
     "text": [
      "jupyter lab\n"
     ]
    }
   ],
   "source": [
    "print(\"jupyter lab\")"
   ]
  },
  {
   "cell_type": "code",
   "execution_count": 2,
   "id": "153ccd90-25cc-4886-8f72-2dbf079e4d5b",
   "metadata": {},
   "outputs": [],
   "source": [
    "x=5"
   ]
  },
  {
   "cell_type": "code",
   "execution_count": 3,
   "id": "bf20504c-8865-48d8-b212-b7cd7cb82f9f",
   "metadata": {},
   "outputs": [
    {
     "data": {
      "text/plain": [
       "5"
      ]
     },
     "execution_count": 3,
     "metadata": {},
     "output_type": "execute_result"
    }
   ],
   "source": [
    "x"
   ]
  },
  {
   "cell_type": "code",
   "execution_count": 4,
   "id": "cbd39c6c-dbae-41ed-81c6-8204d6261d90",
   "metadata": {},
   "outputs": [],
   "source": [
    "y=5"
   ]
  },
  {
   "cell_type": "code",
   "execution_count": 5,
   "id": "8681264b-f71e-4ee4-883e-4da964df595c",
   "metadata": {},
   "outputs": [
    {
     "data": {
      "text/plain": [
       "5"
      ]
     },
     "execution_count": 5,
     "metadata": {},
     "output_type": "execute_result"
    }
   ],
   "source": [
    "y"
   ]
  },
  {
   "cell_type": "code",
   "execution_count": 6,
   "id": "edb6378e-d9c8-4afc-823d-a4de95f77624",
   "metadata": {},
   "outputs": [],
   "source": [
    "x=y"
   ]
  },
  {
   "cell_type": "code",
   "execution_count": 7,
   "id": "3e3ba254-742b-4186-8e2d-c443c7fcffeb",
   "metadata": {},
   "outputs": [
    {
     "data": {
      "text/plain": [
       "5"
      ]
     },
     "execution_count": 7,
     "metadata": {},
     "output_type": "execute_result"
    }
   ],
   "source": [
    "x"
   ]
  },
  {
   "cell_type": "code",
   "execution_count": 8,
   "id": "ccbc01c9-78b3-481e-83bb-83da9952d533",
   "metadata": {},
   "outputs": [],
   "source": [
    "y=6"
   ]
  },
  {
   "cell_type": "code",
   "execution_count": 9,
   "id": "36fa44cb-e1d2-44ce-bea9-fb3c74210f1f",
   "metadata": {},
   "outputs": [
    {
     "data": {
      "text/plain": [
       "5"
      ]
     },
     "execution_count": 9,
     "metadata": {},
     "output_type": "execute_result"
    }
   ],
   "source": [
    "x"
   ]
  },
  {
   "cell_type": "code",
   "execution_count": 10,
   "id": "6b0cc9e0-7eb0-487c-b2e7-2988082fe379",
   "metadata": {},
   "outputs": [
    {
     "data": {
      "text/plain": [
       "6"
      ]
     },
     "execution_count": 10,
     "metadata": {},
     "output_type": "execute_result"
    }
   ],
   "source": [
    "y"
   ]
  },
  {
   "cell_type": "code",
   "execution_count": 16,
   "id": "ca634a4b-d5ea-4004-9d3b-9575d3d164df",
   "metadata": {},
   "outputs": [
    {
     "name": "stdout",
     "output_type": "stream",
     "text": [
      "0\n",
      "1\n",
      "2\n",
      "3\n",
      "4\n",
      "5\n",
      "6\n",
      "7\n",
      "8\n",
      "9\n"
     ]
    }
   ],
   "source": [
    "for i in range(10):\n",
    "    print (i) # printing the values 0 to 9"
   ]
  },
  {
   "cell_type": "code",
   "execution_count": 21,
   "id": "d6e294a0-6833-4172-a6e9-baaf33f6031d",
   "metadata": {},
   "outputs": [
    {
     "name": "stdout",
     "output_type": "stream",
     "text": [
      "50\n"
     ]
    }
   ],
   "source": [
    "NIFTY=50\n",
    "BANKNIFTY=15\n",
    "'''print(BANKNIFTY)'''\n",
    "print(NIFTY)"
   ]
  },
  {
   "cell_type": "code",
   "execution_count": 27,
   "id": "9bcc0283-7cc7-467e-ae46-c018b1fbbce4",
   "metadata": {},
   "outputs": [],
   "source": [
    "\"\"\"EXAMPLE FOR SUM OF 2 NUMBER\"\"\"\n",
    "def sum(a,b):\n",
    "    \"\"\"does sum of two number\"\"\"\n",
    "    return a+b"
   ]
  },
  {
   "cell_type": "code",
   "execution_count": 26,
   "id": "1031e8a4-0cb9-47bc-a79a-c0fa875f3987",
   "metadata": {},
   "outputs": [
    {
     "name": "stdout",
     "output_type": "stream",
     "text": [
      "12\n"
     ]
    }
   ],
   "source": [
    "print(sum(3,9))"
   ]
  },
  {
   "cell_type": "code",
   "execution_count": 29,
   "id": "6e188b5b-1ed7-461d-bd3a-41bd7f2dfb8b",
   "metadata": {},
   "outputs": [
    {
     "name": "stdout",
     "output_type": "stream",
     "text": [
      "Help on function sum in module __main__:\n",
      "\n",
      "sum(a, b)\n",
      "    does sum of two number\n",
      "\n"
     ]
    }
   ],
   "source": [
    "help(sum)"
   ]
  },
  {
   "cell_type": "code",
   "execution_count": 30,
   "id": "36cd3bbc-5cec-460f-b293-a31a400c3cb2",
   "metadata": {},
   "outputs": [],
   "source": [
    "def send_noreconnect(self):\n",
    "        \"\"\"Callback `no_reconnect` if max retries are exhausted.\"\"\"\n",
    "        if self.maxRetries is not None and (self.retries > self.maxRetries):\n",
    "            if self.debug:\n",
    "                log.debug(\"Maximum retries ({}) exhausted.\".format(self.maxRetries))\n",
    "                # Stop the loop for exceeding max retry attempts\n",
    "                self.stop()\n",
    "\n",
    "            if self.on_noreconnect:\n",
    "                self.on_noreconnect()"
   ]
  },
  {
   "cell_type": "code",
   "execution_count": 31,
   "id": "62fb1ec1-8d23-49bc-a6b0-5482cfa81906",
   "metadata": {},
   "outputs": [
    {
     "name": "stdout",
     "output_type": "stream",
     "text": [
      "Help on function send_noreconnect in module __main__:\n",
      "\n",
      "send_noreconnect(self)\n",
      "    Callback `no_reconnect` if max retries are exhausted.\n",
      "\n"
     ]
    }
   ],
   "source": [
    "help(send_noreconnect)"
   ]
  },
  {
   "cell_type": "markdown",
   "id": "d707cc4b-f751-4ec1-9064-0d42529f673a",
   "metadata": {},
   "source": [
    "# \"INTEGER\""
   ]
  },
  {
   "cell_type": "code",
   "execution_count": 1,
   "id": "88e75c47-a532-4710-9620-944627f73554",
   "metadata": {},
   "outputs": [],
   "source": [
    "niftylot=50\n",
    "banknifty=15\n",
    "buyQty=100\n",
    "sellQty=120"
   ]
  },
  {
   "cell_type": "code",
   "execution_count": 2,
   "id": "05b5a3dd-8c29-4a0e-a47d-9bbbb6efc629",
   "metadata": {},
   "outputs": [],
   "source": [
    "OI=12390"
   ]
  },
  {
   "cell_type": "code",
   "execution_count": 4,
   "id": "263f6342-5c4a-4184-8979-99a731a8aa27",
   "metadata": {},
   "outputs": [
    {
     "name": "stdout",
     "output_type": "stream",
     "text": [
      "12390\n"
     ]
    }
   ],
   "source": [
    "print(OI)"
   ]
  },
  {
   "cell_type": "code",
   "execution_count": 5,
   "id": "d3f4b4f6-1773-42e1-b0b5-c74cd5487227",
   "metadata": {},
   "outputs": [
    {
     "data": {
      "text/plain": [
       "int"
      ]
     },
     "execution_count": 5,
     "metadata": {},
     "output_type": "execute_result"
    }
   ],
   "source": [
    "type(niftylot)"
   ]
  },
  {
   "cell_type": "code",
   "execution_count": 6,
   "id": "7cf37056-3efc-4a37-860b-ebb33bc96ba7",
   "metadata": {},
   "outputs": [
    {
     "data": {
      "text/plain": [
       "int"
      ]
     },
     "execution_count": 6,
     "metadata": {},
     "output_type": "execute_result"
    }
   ],
   "source": [
    "type(OI)"
   ]
  },
  {
   "cell_type": "code",
   "execution_count": 7,
   "id": "93585e56-52d5-4a3f-98d4-03182a4554f6",
   "metadata": {},
   "outputs": [],
   "source": [
    "SBIN=651.55\n",
    "TCS=3800.55"
   ]
  },
  {
   "cell_type": "code",
   "execution_count": 8,
   "id": "dcd58723-c7cd-49f2-a6e2-6e2207e3da99",
   "metadata": {},
   "outputs": [
    {
     "data": {
      "text/plain": [
       "float"
      ]
     },
     "execution_count": 8,
     "metadata": {},
     "output_type": "execute_result"
    }
   ],
   "source": [
    "type(SBIN)"
   ]
  },
  {
   "cell_type": "markdown",
   "id": "4151aa79-6825-432d-bef7-4bfdc18b94bf",
   "metadata": {},
   "source": [
    "# \"Complex\""
   ]
  },
  {
   "cell_type": "markdown",
   "id": "a19dbfda-94b1-4453-afab-d61324f59bd5",
   "metadata": {},
   "source": [
    "# \"sTRING\""
   ]
  },
  {
   "cell_type": "code",
   "execution_count": 9,
   "id": "7d6c3672-d16a-46d8-a0db-acd23051ef58",
   "metadata": {},
   "outputs": [],
   "source": [
    "TCS='tat consulatany ervices'"
   ]
  },
  {
   "cell_type": "code",
   "execution_count": 10,
   "id": "1bae535c-7fbf-4230-8c3d-052d30950ea4",
   "metadata": {},
   "outputs": [],
   "source": [
    "fmcg=\"itc,nestleind,dabur\""
   ]
  },
  {
   "cell_type": "code",
   "execution_count": 13,
   "id": "ab81cdab-2bb7-4e7b-888c-9dc7e9e68e71",
   "metadata": {},
   "outputs": [
    {
     "data": {
      "text/plain": [
       "str"
      ]
     },
     "execution_count": 13,
     "metadata": {},
     "output_type": "execute_result"
    }
   ],
   "source": [
    "type(TCS)"
   ]
  },
  {
   "cell_type": "code",
   "execution_count": 14,
   "id": "39c64aab-474a-4cf1-bfe7-7423b1d4a9e3",
   "metadata": {},
   "outputs": [
    {
     "data": {
      "text/plain": [
       "23"
      ]
     },
     "execution_count": 14,
     "metadata": {},
     "output_type": "execute_result"
    }
   ],
   "source": [
    "len(TCS)"
   ]
  },
  {
   "cell_type": "code",
   "execution_count": 17,
   "id": "73d52cf4-effa-4fcc-8fb5-9d06b4f62b5a",
   "metadata": {},
   "outputs": [
    {
     "name": "stdout",
     "output_type": "stream",
     "text": [
      "TAT CONSULATANY ERVICES\n"
     ]
    }
   ],
   "source": [
    "print(TCS.upper())"
   ]
  },
  {
   "cell_type": "code",
   "execution_count": 21,
   "id": "0d15be36-1af3-4f75-95c6-f84de2701b28",
   "metadata": {},
   "outputs": [],
   "source": [
    "TCS=TCS.replace('tat','KART')"
   ]
  },
  {
   "cell_type": "code",
   "execution_count": 22,
   "id": "b4cf4ab4-db04-459c-abbc-abca4c234e90",
   "metadata": {},
   "outputs": [
    {
     "data": {
      "text/plain": [
       "'KART consulatany ervices'"
      ]
     },
     "execution_count": 22,
     "metadata": {},
     "output_type": "execute_result"
    }
   ],
   "source": [
    "TCS"
   ]
  },
  {
   "cell_type": "markdown",
   "id": "083b6d60-34a9-417d-950b-91d75ec9762e",
   "metadata": {},
   "source": [
    "# LIST"
   ]
  },
  {
   "cell_type": "markdown",
   "id": "0f1d25d0-a9a1-4ca0-8c81-58124f143df3",
   "metadata": {},
   "source": [
    "# List ordered and Mutable(append, replaceable)"
   ]
  },
  {
   "cell_type": "code",
   "execution_count": 26,
   "id": "489f50eb-4d2c-43ee-9832-1d186ab55576",
   "metadata": {},
   "outputs": [],
   "source": [
    "INDEX= ['NIFTY','BANKNIFTY','MIDCPNIFTY','SENSEX']"
   ]
  },
  {
   "cell_type": "code",
   "execution_count": 30,
   "id": "4fc55536-5bd4-418a-ac70-5f6e79c7ab37",
   "metadata": {},
   "outputs": [
    {
     "data": {
      "text/plain": [
       "list"
      ]
     },
     "execution_count": 30,
     "metadata": {},
     "output_type": "execute_result"
    }
   ],
   "source": [
    "type(INDEX)"
   ]
  },
  {
   "cell_type": "code",
   "execution_count": 35,
   "id": "934b2773-bdf4-40dd-b4fe-55f41b66cf6e",
   "metadata": {},
   "outputs": [
    {
     "data": {
      "text/plain": [
       "'BANKNIFTY'"
      ]
     },
     "execution_count": 35,
     "metadata": {},
     "output_type": "execute_result"
    }
   ],
   "source": [
    "INDEX[1]"
   ]
  },
  {
   "cell_type": "code",
   "execution_count": 53,
   "id": "df0b3569-d5f4-434a-87eb-6075bd873d24",
   "metadata": {},
   "outputs": [],
   "source": [
    "stockinfo=['Maruti',10000,1690.3,1710.3,'Maruti India']"
   ]
  },
  {
   "cell_type": "code",
   "execution_count": 54,
   "id": "e0e517f3-bf38-4550-a9ab-732f8749a405",
   "metadata": {},
   "outputs": [
    {
     "data": {
      "text/plain": [
       "list"
      ]
     },
     "execution_count": 54,
     "metadata": {},
     "output_type": "execute_result"
    }
   ],
   "source": [
    "type(stockinfo)"
   ]
  },
  {
   "cell_type": "code",
   "execution_count": 55,
   "id": "e23113da-1665-4088-85a8-e7b834075aca",
   "metadata": {},
   "outputs": [],
   "source": [
    "stockinfo[0]='BAJAJ AUTO'"
   ]
  },
  {
   "cell_type": "code",
   "execution_count": 56,
   "id": "3fbca07d-0835-4274-a391-06ecdeb418a4",
   "metadata": {},
   "outputs": [
    {
     "data": {
      "text/plain": [
       "['BAJAJ AUTO', 10000, 1690.3, 1710.3, 'Maruti India']"
      ]
     },
     "execution_count": 56,
     "metadata": {},
     "output_type": "execute_result"
    }
   ],
   "source": [
    "stockinfo"
   ]
  },
  {
   "cell_type": "code",
   "execution_count": 57,
   "id": "eb01e664-d5e1-4202-b80a-c1f84b55a0a3",
   "metadata": {},
   "outputs": [],
   "source": [
    "stockinfo.append(\"Market cap 1200 cr\")"
   ]
  },
  {
   "cell_type": "code",
   "execution_count": 58,
   "id": "81a783a5-f1b7-4c2b-bfc7-523f13ced947",
   "metadata": {},
   "outputs": [
    {
     "data": {
      "text/plain": [
       "['BAJAJ AUTO', 10000, 1690.3, 1710.3, 'Maruti India', 'Market cap 1200 cr']"
      ]
     },
     "execution_count": 58,
     "metadata": {},
     "output_type": "execute_result"
    }
   ],
   "source": [
    "stockinfo"
   ]
  },
  {
   "cell_type": "markdown",
   "id": "220f6095-3481-48e6-be91-d55e35a12392",
   "metadata": {},
   "source": [
    "# Tuple"
   ]
  },
  {
   "cell_type": "code",
   "execution_count": null,
   "id": "da6f46eb-a91a-424c-8728-91141b5ca637",
   "metadata": {},
   "outputs": [],
   "source": []
  }
 ],
 "metadata": {
  "kernelspec": {
   "display_name": "Python 3 (ipykernel)",
   "language": "python",
   "name": "python3"
  },
  "language_info": {
   "codemirror_mode": {
    "name": "ipython",
    "version": 3
   },
   "file_extension": ".py",
   "mimetype": "text/x-python",
   "name": "python",
   "nbconvert_exporter": "python",
   "pygments_lexer": "ipython3",
   "version": "3.11.6"
  }
 },
 "nbformat": 4,
 "nbformat_minor": 5
}
